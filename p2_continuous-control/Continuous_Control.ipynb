{
 "cells": [
  {
   "cell_type": "markdown",
   "metadata": {},
   "source": [
    "# Continuous Control\n",
    "\n",
    "---\n",
    "\n",
    "You are welcome to use this coding environment to train your agent for the project.  Follow the instructions below to get started!\n",
    "\n",
    "### 1. Start the Environment\n",
    "\n",
    "Run the next code cell to install a few packages.  This line will take a few minutes to run!"
   ]
  },
  {
   "cell_type": "markdown",
   "metadata": {},
   "source": [
    "The environments corresponding to both versions of the environment are already saved in the Workspace and can be accessed at the file paths provided below.  \n",
    "\n",
    "Please select one of the two options below for loading the environment."
   ]
  },
  {
   "cell_type": "code",
   "execution_count": 1,
   "metadata": {},
   "outputs": [
    {
     "name": "stderr",
     "output_type": "stream",
     "text": [
      "INFO:unityagents:\n",
      "'Academy' started successfully!\n",
      "Unity Academy name: Academy\n",
      "        Number of Brains: 1\n",
      "        Number of External Brains : 1\n",
      "        Lesson number : 0\n",
      "        Reset Parameters :\n",
      "\t\tgoal_speed -> 1.0\n",
      "\t\tgoal_size -> 5.0\n",
      "Unity brain name: ReacherBrain\n",
      "        Number of Visual Observations (per agent): 0\n",
      "        Vector Observation space type: continuous\n",
      "        Vector Observation space size (per agent): 33\n",
      "        Number of stacked Vector Observation: 1\n",
      "        Vector Action space type: continuous\n",
      "        Vector Action space size (per agent): 4\n",
      "        Vector Action descriptions: , , , \n"
     ]
    }
   ],
   "source": [
    "from unityagents import UnityEnvironment\n",
    "import gym\n",
    "import random\n",
    "import torch\n",
    "import numpy as np\n",
    "from collections import deque\n",
    "import matplotlib.pyplot as plt\n",
    "%matplotlib inline\n",
    "\n",
    "from ddpg_agent import Agent\n",
    "\n",
    "# select this option to load version 1(with a single agent) of the environment\n",
    "fname = r\"C:\\Users\\anu\\ProjectData\\Reacher_Windows_x86_64\\Reacher.exe\"\n",
    "fname = r\"C:\\Users\\anu\\deep-reinforcement-learning\\p2_continuous-control\\Reacher_Windows_x86_64\\Reacher.exe\"\n",
    "env = UnityEnvironment(file_name=fname)\n",
    "\n",
    "# select this option to load version 2 (with 20 agents) of the environment\n",
    "# env = UnityEnvironment(file_name='/data/Reacher_Linux_NoVis/Reacher.x86_64')"
   ]
  },
  {
   "cell_type": "markdown",
   "metadata": {},
   "source": [
    "Environments contain **_brains_** which are responsible for deciding the actions of their associated agents. Here we check for the first brain available, and set it as the default brain we will be controlling from Python."
   ]
  },
  {
   "cell_type": "code",
   "execution_count": 2,
   "metadata": {},
   "outputs": [],
   "source": [
    "# get the default brain\n",
    "brain_name = env.brain_names[0]\n",
    "brain = env.brains[brain_name]"
   ]
  },
  {
   "cell_type": "markdown",
   "metadata": {},
   "source": [
    "### 2. Examine the State and Action Spaces\n",
    "\n",
    "Run the code cell below to print some information about the environment."
   ]
  },
  {
   "cell_type": "code",
   "execution_count": 3,
   "metadata": {},
   "outputs": [
    {
     "name": "stdout",
     "output_type": "stream",
     "text": [
      "Number of agents: 1\n",
      "Size of each action: 4\n",
      "There are 1 agents. Each observes a state with length: 33\n",
      "The state for the first agent looks like: [ 0.00000000e+00 -4.00000000e+00  0.00000000e+00  1.00000000e+00\n",
      " -0.00000000e+00 -0.00000000e+00 -4.37113883e-08  0.00000000e+00\n",
      "  0.00000000e+00  0.00000000e+00  0.00000000e+00  0.00000000e+00\n",
      "  0.00000000e+00  0.00000000e+00 -1.00000000e+01  0.00000000e+00\n",
      "  1.00000000e+00 -0.00000000e+00 -0.00000000e+00 -4.37113883e-08\n",
      "  0.00000000e+00  0.00000000e+00  0.00000000e+00  0.00000000e+00\n",
      "  0.00000000e+00  0.00000000e+00  5.75471878e+00 -1.00000000e+00\n",
      "  5.55726671e+00  0.00000000e+00  1.00000000e+00  0.00000000e+00\n",
      " -1.68164849e-01]\n"
     ]
    }
   ],
   "source": [
    "# reset the environment\n",
    "env_info = env.reset(train_mode=True)[brain_name]\n",
    "\n",
    "# number of agents\n",
    "num_agents = len(env_info.agents)\n",
    "print('Number of agents:', num_agents)\n",
    "\n",
    "# size of each action\n",
    "action_size = brain.vector_action_space_size\n",
    "print('Size of each action:', action_size)\n",
    "\n",
    "# examine the state space \n",
    "states = env_info.vector_observations\n",
    "state_size = states.shape[1]\n",
    "print('There are {} agents. Each observes a state with length: {}'.format(states.shape[0], state_size))\n",
    "print('The state for the first agent looks like:', states[0])"
   ]
  },
  {
   "cell_type": "markdown",
   "metadata": {},
   "source": [
    "### 3. Take Random Actions in the Environment\n",
    "\n",
    "In the next code cell, you will learn how to use the Python API to control the agent and receive feedback from the environment.\n",
    "\n",
    "Note that **in this coding environment, you will not be able to watch the agents while they are training**, and you should set `train_mode=True` to restart the environment."
   ]
  },
  {
   "cell_type": "code",
   "execution_count": 4,
   "metadata": {},
   "outputs": [
    {
     "name": "stdout",
     "output_type": "stream",
     "text": [
      "Total score (averaged over agents) this episode: 0.23999999463558197\n"
     ]
    }
   ],
   "source": [
    "env_info = env.reset(train_mode=True)[brain_name]      # reset the environment    \n",
    "states = env_info.vector_observations                  # get the current state (for each agent)\n",
    "scores = np.zeros(num_agents)                          # initialize the score (for each agent)\n",
    "while True:\n",
    "    actions = np.random.randn(num_agents, action_size) # select an action (for each agent)\n",
    "    actions = np.clip(actions, -1, 1)                  # all actions between -1 and 1\n",
    "    env_info = env.step(actions)[brain_name]           # send all actions to tne environment\n",
    "    next_states = env_info.vector_observations         # get next state (for each agent)\n",
    "    rewards = env_info.rewards                         # get reward (for each agent)\n",
    "    dones = env_info.local_done                        # see if episode finished\n",
    "    scores += env_info.rewards                         # update the score (for each agent)\n",
    "    states = next_states                               # roll over states to next time step\n",
    "    if np.any(dones):                                  # exit loop if episode finished\n",
    "        break\n",
    "print('Total score (averaged over agents) this episode: {}'.format(np.mean(scores)))"
   ]
  },
  {
   "cell_type": "markdown",
   "metadata": {},
   "source": [
    "### 4. Train the agent with DDPG\n",
    "\n",
    "In the next code cell, you will learn how to use the Python API to control the agent and receive feedback from the environment.\n"
   ]
  },
  {
   "cell_type": "code",
   "execution_count": null,
   "metadata": {},
   "outputs": [
    {
     "name": "stderr",
     "output_type": "stream",
     "text": [
      "C:\\Users\\anu\\Anaconda3\\envs\\drlnd\\lib\\site-packages\\torch\\nn\\functional.py:995: UserWarning: nn.functional.tanh is deprecated. Use torch.tanh instead.\n",
      "  warnings.warn(\"nn.functional.tanh is deprecated. Use torch.tanh instead.\")\n"
     ]
    },
    {
     "name": "stdout",
     "output_type": "stream",
     "text": [
      "\r",
      "Episode 1\tAverage Score: 0.58\tMin Score: 0.58\tMax Score: 0.58\tTime: 4.14"
     ]
    },
    {
     "name": "stderr",
     "output_type": "stream",
     "text": [
      "C:\\Users\\anu\\deep-reinforcement-learning\\p2_continuous-control\\ddpg_agent.py:104: UserWarning: torch.nn.utils.clip_grad_norm is now deprecated in favor of torch.nn.utils.clip_grad_norm_.\n",
      "  torch.nn.utils.clip_grad_norm(self.critic_local.parameters(), 1)\n"
     ]
    },
    {
     "name": "stdout",
     "output_type": "stream",
     "text": [
      "Episode 10\tAverage Score: 0.53\tMin Score: 0.10\tMax Score: 0.10\tTime: 24.25\n",
      "Episode 20\tAverage Score: 0.79\tMin Score: 0.31\tMax Score: 0.31\tTime: 24.20\n",
      "Episode 30\tAverage Score: 1.33\tMin Score: 1.48\tMax Score: 1.48\tTime: 24.13\n",
      "Episode 40\tAverage Score: 1.66\tMin Score: 1.04\tMax Score: 1.04\tTime: 24.81\n",
      "Episode 50\tAverage Score: 2.06\tMin Score: 3.99\tMax Score: 3.99\tTime: 25.33\n",
      "Episode 60\tAverage Score: 2.15\tMin Score: 1.66\tMax Score: 1.66\tTime: 24.40\n",
      "Episode 70\tAverage Score: 2.25\tMin Score: 1.93\tMax Score: 1.93\tTime: 25.51\n",
      "Episode 80\tAverage Score: 2.42\tMin Score: 3.66\tMax Score: 3.66\tTime: 26.54\n",
      "Episode 90\tAverage Score: 2.56\tMin Score: 8.35\tMax Score: 8.35\tTime: 25.22\n",
      "Episode 100\tAverage Score: 2.80\tMin Score: 6.77\tMax Score: 6.77\tTime: 28.41\n",
      "Episode 110\tAverage Score: 3.12\tMin Score: 4.35\tMax Score: 4.35\tTime: 26.86\n",
      "Episode 120\tAverage Score: 3.37\tMin Score: 3.26\tMax Score: 3.26\tTime: 26.39\n",
      "Episode 130\tAverage Score: 3.54\tMin Score: 3.40\tMax Score: 3.40\tTime: 25.71\n",
      "Episode 140\tAverage Score: 3.70\tMin Score: 5.10\tMax Score: 5.10\tTime: 27.02\n",
      "Episode 150\tAverage Score: 3.66\tMin Score: 3.25\tMax Score: 3.25\tTime: 26.29\n",
      "Episode 160\tAverage Score: 3.75\tMin Score: 4.44\tMax Score: 4.44\tTime: 26.30\n",
      "Episode 170\tAverage Score: 3.93\tMin Score: 6.33\tMax Score: 6.33\tTime: 25.99\n",
      "Episode 180\tAverage Score: 3.89\tMin Score: 5.15\tMax Score: 5.15\tTime: 33.13\n",
      "Episode 190\tAverage Score: 3.95\tMin Score: 5.12\tMax Score: 5.12\tTime: 29.95\n",
      "Episode 200\tAverage Score: 3.77\tMin Score: 2.13\tMax Score: 2.13\tTime: 27.00\n",
      "Episode 210\tAverage Score: 3.73\tMin Score: 5.24\tMax Score: 5.24\tTime: 28.59\n",
      "Episode 220\tAverage Score: 3.85\tMin Score: 5.48\tMax Score: 5.48\tTime: 28.06\n",
      "Episode 230\tAverage Score: 3.78\tMin Score: 4.16\tMax Score: 4.16\tTime: 28.65\n",
      "Episode 240\tAverage Score: 3.87\tMin Score: 4.96\tMax Score: 4.96\tTime: 28.05\n",
      "Episode 250\tAverage Score: 3.99\tMin Score: 3.65\tMax Score: 3.65\tTime: 28.4164\n",
      "Episode 260\tAverage Score: 4.23\tMin Score: 11.47\tMax Score: 11.47\tTime: 28.53\n",
      "Episode 270\tAverage Score: 4.29\tMin Score: 0.69\tMax Score: 0.69\tTime: 30.7077\n",
      "Episode 280\tAverage Score: 4.42\tMin Score: 8.38\tMax Score: 8.38\tTime: 29.23\n",
      "Episode 290\tAverage Score: 4.60\tMin Score: 6.72\tMax Score: 6.72\tTime: 32.8583\n",
      "Episode 300\tAverage Score: 4.96\tMin Score: 9.09\tMax Score: 9.09\tTime: 29.7875\n",
      "Episode 310\tAverage Score: 5.11\tMin Score: 7.40\tMax Score: 7.40\tTime: 30.3185\n",
      "Episode 320\tAverage Score: 5.26\tMin Score: 14.59\tMax Score: 14.59\tTime: 30.31\n",
      "Episode 330\tAverage Score: 5.33\tMin Score: 7.10\tMax Score: 7.10\tTime: 30.63\n",
      "Episode 340\tAverage Score: 5.36\tMin Score: 5.81\tMax Score: 5.81\tTime: 30.85\n",
      "Episode 350\tAverage Score: 5.30\tMin Score: 6.94\tMax Score: 6.94\tTime: 31.1500\n",
      "Episode 360\tAverage Score: 5.14\tMin Score: 1.80\tMax Score: 1.80\tTime: 31.1523\n",
      "Episode 370\tAverage Score: 5.13\tMin Score: 4.66\tMax Score: 4.66\tTime: 31.5843\n",
      "Episode 380\tAverage Score: 5.35\tMin Score: 8.52\tMax Score: 8.52\tTime: 31.7863\n",
      "Episode 390\tAverage Score: 5.00\tMin Score: 2.30\tMax Score: 2.30\tTime: 32.03\n",
      "Episode 400\tAverage Score: 4.91\tMin Score: 2.49\tMax Score: 2.49\tTime: 32.3229\n",
      "Episode 410\tAverage Score: 5.23\tMin Score: 11.00\tMax Score: 11.00\tTime: 32.47\n",
      "Episode 420\tAverage Score: 5.77\tMin Score: 2.58\tMax Score: 2.58\tTime: 32.8486\n",
      "Episode 430\tAverage Score: 5.63\tMin Score: 1.66\tMax Score: 1.66\tTime: 32.92\n",
      "Episode 440\tAverage Score: 5.67\tMin Score: 0.00\tMax Score: 0.00\tTime: 33.1829\n",
      "Episode 450\tAverage Score: 5.74\tMin Score: 3.09\tMax Score: 3.09\tTime: 33.58\n",
      "Episode 460\tAverage Score: 6.29\tMin Score: 29.64\tMax Score: 29.64\tTime: 33.86\n",
      "Episode 470\tAverage Score: 6.47\tMin Score: 1.41\tMax Score: 1.41\tTime: 33.9787\n",
      "Episode 480\tAverage Score: 6.34\tMin Score: 13.22\tMax Score: 13.22\tTime: 34.40\n",
      "Episode 490\tAverage Score: 6.75\tMin Score: 1.48\tMax Score: 1.48\tTime: 34.4744\n",
      "Episode 500\tAverage Score: 6.82\tMin Score: 3.09\tMax Score: 3.09\tTime: 34.6756\n",
      "Episode 510\tAverage Score: 6.82\tMin Score: 1.18\tMax Score: 1.18\tTime: 34.9708\n",
      "Episode 520\tAverage Score: 6.51\tMin Score: 15.05\tMax Score: 15.05\tTime: 35.37\n",
      "Episode 530\tAverage Score: 7.01\tMin Score: 17.98\tMax Score: 17.98\tTime: 35.52\n",
      "Episode 540\tAverage Score: 7.32\tMin Score: 1.80\tMax Score: 1.80\tTime: 35.8692\n",
      "Episode 550\tAverage Score: 7.93\tMin Score: 15.32\tMax Score: 15.32\tTime: 36.02\n",
      "Episode 560\tAverage Score: 7.56\tMin Score: 2.60\tMax Score: 2.60\tTime: 36.3248\n",
      "Episode 570\tAverage Score: 7.46\tMin Score: 11.51\tMax Score: 11.51\tTime: 36.76\n",
      "Episode 580\tAverage Score: 7.34\tMin Score: 6.62\tMax Score: 6.62\tTime: 36.8407\n",
      "Episode 590\tAverage Score: 7.17\tMin Score: 2.32\tMax Score: 2.32\tTime: 36.9799\n",
      "Episode 600\tAverage Score: 7.04\tMin Score: 10.10\tMax Score: 10.10\tTime: 37.49\n",
      "Episode 610\tAverage Score: 6.67\tMin Score: 22.02\tMax Score: 22.02\tTime: 38.02\n",
      "Episode 620\tAverage Score: 6.09\tMin Score: 1.52\tMax Score: 1.52\tTime: 37.97\n",
      "Episode 630\tAverage Score: 5.79\tMin Score: 11.71\tMax Score: 11.71\tTime: 38.16\n",
      "Episode 640\tAverage Score: 5.12\tMin Score: 1.79\tMax Score: 1.79\tTime: 38.49\n",
      "Episode 650\tAverage Score: 4.54\tMin Score: 2.52\tMax Score: 2.52\tTime: 38.6233\n",
      "Episode 660\tAverage Score: 4.66\tMin Score: 2.01\tMax Score: 2.01\tTime: 38.9503\n",
      "Episode 670\tAverage Score: 4.90\tMin Score: 15.28\tMax Score: 15.28\tTime: 39.33\n",
      "Episode 680\tAverage Score: 4.96\tMin Score: 0.71\tMax Score: 0.71\tTime: 39.5434\n",
      "Episode 690\tAverage Score: 5.06\tMin Score: 9.41\tMax Score: 9.41\tTime: 39.7074\n",
      "Episode 700\tAverage Score: 5.13\tMin Score: 11.42\tMax Score: 11.42\tTime: 39.96\n",
      "Episode 710\tAverage Score: 5.36\tMin Score: 2.31\tMax Score: 2.31\tTime: 40.3391\n",
      "Episode 720\tAverage Score: 5.45\tMin Score: 0.97\tMax Score: 0.97\tTime: 40.3840\n",
      "Episode 730\tAverage Score: 5.46\tMin Score: 13.97\tMax Score: 13.97\tTime: 40.46\n",
      "Episode 740\tAverage Score: 5.91\tMin Score: 0.71\tMax Score: 0.71\tTime: 41.2084\n",
      "Episode 750\tAverage Score: 6.36\tMin Score: 2.88\tMax Score: 2.88\tTime: 41.2320\n",
      "Episode 760\tAverage Score: 6.23\tMin Score: 0.77\tMax Score: 0.77\tTime: 41.4053\n",
      "Episode 770\tAverage Score: 5.91\tMin Score: 7.69\tMax Score: 7.69\tTime: 42.0866\n",
      "Episode 780\tAverage Score: 5.95\tMin Score: 2.95\tMax Score: 2.95\tTime: 42.0307\n",
      "Episode 790\tAverage Score: 6.33\tMin Score: 0.86\tMax Score: 0.86\tTime: 42.7620\n",
      "Episode 800\tAverage Score: 6.55\tMin Score: 13.30\tMax Score: 13.30\tTime: 42.65\n",
      "Episode 810\tAverage Score: 6.58\tMin Score: 0.98\tMax Score: 0.98\tTime: 43.0183\n",
      "Episode 820\tAverage Score: 7.14\tMin Score: 10.28\tMax Score: 10.28\tTime: 43.16\n",
      "Episode 830\tAverage Score: 7.47\tMin Score: 12.03\tMax Score: 12.03\tTime: 43.46\n",
      "Episode 840\tAverage Score: 7.26\tMin Score: 1.59\tMax Score: 1.59\tTime: 43.7156\n",
      "Episode 850\tAverage Score: 6.85\tMin Score: 0.91\tMax Score: 0.91\tTime: 43.8399\n",
      "Episode 860\tAverage Score: 7.41\tMin Score: 17.03\tMax Score: 17.03\tTime: 44.26\n",
      "Episode 870\tAverage Score: 7.85\tMin Score: 13.90\tMax Score: 13.90\tTime: 44.69\n",
      "Episode 880\tAverage Score: 8.28\tMin Score: 19.87\tMax Score: 19.87\tTime: 45.09\n",
      "Episode 890\tAverage Score: 8.55\tMin Score: 35.31\tMax Score: 35.31\tTime: 44.85\n",
      "Episode 900\tAverage Score: 8.54\tMin Score: 3.78\tMax Score: 3.78\tTime: 45.2998\n",
      "Episode 910\tAverage Score: 8.49\tMin Score: 18.85\tMax Score: 18.85\tTime: 45.56\n",
      "Episode 920\tAverage Score: 8.28\tMin Score: 9.56\tMax Score: 9.56\tTime: 46.8427\n",
      "Episode 930\tAverage Score: 8.07\tMin Score: 11.84\tMax Score: 11.84\tTime: 46.06\n",
      "Episode 940\tAverage Score: 8.69\tMin Score: 12.96\tMax Score: 12.96\tTime: 46.54\n",
      "Episode 950\tAverage Score: 9.04\tMin Score: 1.57\tMax Score: 1.57\tTime: 46.8076\n",
      "Episode 960\tAverage Score: 8.39\tMin Score: 1.94\tMax Score: 1.94\tTime: 47.0392\n",
      "Episode 970\tAverage Score: 8.39\tMin Score: 2.00\tMax Score: 2.00\tTime: 47.4223\n",
      "Episode 980\tAverage Score: 7.90\tMin Score: 2.02\tMax Score: 2.02\tTime: 47.8852\n",
      "Episode 990\tAverage Score: 7.25\tMin Score: 2.01\tMax Score: 2.01\tTime: 47.8580\n",
      "Episode 1000\tAverage Score: 7.75\tMin Score: 7.95\tMax Score: 7.95\tTime: 55.860\n",
      "Episode 1010\tAverage Score: 8.22\tMin Score: 11.40\tMax Score: 11.40\tTime: 49.72\n",
      "Episode 1020\tAverage Score: 8.19\tMin Score: 1.74\tMax Score: 1.74\tTime: 48.5906\n",
      "Episode 1030\tAverage Score: 8.42\tMin Score: 19.98\tMax Score: 19.98\tTime: 48.41\n",
      "Episode 1040\tAverage Score: 8.63\tMin Score: 10.13\tMax Score: 10.13\tTime: 48.35\n",
      "Episode 1050\tAverage Score: 8.90\tMin Score: 6.28\tMax Score: 6.28\tTime: 48.5666\n"
     ]
    },
    {
     "name": "stdout",
     "output_type": "stream",
     "text": [
      "Episode 1060\tAverage Score: 9.35\tMin Score: 20.70\tMax Score: 20.70\tTime: 48.58\n",
      "Episode 1070\tAverage Score: 9.63\tMin Score: 24.67\tMax Score: 24.67\tTime: 48.40\n",
      "Episode 1080\tAverage Score: 10.41\tMin Score: 19.56\tMax Score: 19.56\tTime: 48.30\n",
      "Episode 1090\tAverage Score: 11.09\tMin Score: 23.77\tMax Score: 23.77\tTime: 49.25\n",
      "Episode 1100\tAverage Score: 11.42\tMin Score: 7.32\tMax Score: 7.32\tTime: 49.5338\n",
      "Episode 1110\tAverage Score: 11.71\tMin Score: 16.93\tMax Score: 16.93\tTime: 49.20\n",
      "Episode 1120\tAverage Score: 12.87\tMin Score: 20.72\tMax Score: 20.72\tTime: 48.27\n",
      "Episode 1130\tAverage Score: 13.62\tMin Score: 18.26\tMax Score: 18.26\tTime: 48.47\n",
      "Episode 1140\tAverage Score: 12.83\tMin Score: 17.19\tMax Score: 17.19\tTime: 48.58\n",
      "Episode 1150\tAverage Score: 12.87\tMin Score: 1.95\tMax Score: 1.95\tTime: 48.6450\n",
      "Episode 1159\tAverage Score: 12.96\tMin Score: 16.48\tMax Score: 16.48\tTime: 49.09"
     ]
    }
   ],
   "source": [
    "import gym\n",
    "import random\n",
    "import torch\n",
    "import numpy as np\n",
    "import time\n",
    "from collections import deque\n",
    "import matplotlib.pyplot as plt\n",
    "%matplotlib inline\n",
    "\n",
    "from ddpg_agent import Agent\n",
    "\n",
    "agent = Agent(state_size=state_size, action_size=action_size, random_seed=0)\n",
    "\n",
    "n_episodes = 2000\n",
    "scores_deque = deque(maxlen=100)\n",
    "total_scores = []\n",
    "\n",
    "print_every = 10\n",
    "max_t = 1000\n",
    "num_learn = 10\n",
    "learn_every = 20\n",
    "\n",
    "for i_episode in range(1, n_episodes+1):\n",
    "    env_info = env.reset(train_mode=True)[brain_name]\n",
    "    states = env_info.vector_observations\n",
    "    scores = np.zeros(num_agents)\n",
    "    agent.reset()\n",
    "    start_time = time.time()\n",
    "    t = 0\n",
    "    while True:\n",
    "        actions = agent.act(states)\n",
    "        env_info = env.step(actions)[brain_name]        \n",
    "        next_states = env_info.vector_observations\n",
    "        rewards = env_info.rewards\n",
    "        dones = env_info.local_done\n",
    "        \n",
    "        for state, action, reward, next_state, done in zip(states, actions, rewards, next_states, dones):\n",
    "            agent.step(state, action, reward, next_state, done)\n",
    "        \n",
    "        states = next_states\n",
    "        scores += env_info.rewards\n",
    "        t += 1\n",
    "        if t%learn_every == 0:\n",
    "            for _ in range(num_learn):\n",
    "                agent.start_learn()        \n",
    "        \n",
    "        if np.any(dones):\n",
    "            break\n",
    "    \n",
    "    mean_score = np.mean(scores)\n",
    "    max_score = np.max(scores)\n",
    "    min_score = np.min(scores)\n",
    "    scores_deque.append(mean_score)\n",
    "    total_scores.append(mean_score)\n",
    "    avg_score = np.mean(scores_deque)\n",
    "    total_time = time.time() - start_time\n",
    "    \n",
    "    print('\\rEpisode {}\\tAverage Score: {:.2f}\\tMin Score: {:.2f}\\tMax Score: {:.2f}\\tTime: {:.2f}'.format(i_episode, np.mean(scores_deque), min_score, max_score, total_time), end=\"\")\n",
    "    if avg_score >=30.0:\n",
    "        torch.save(agent.actor_local.state_dict(), 'checkpoint_actor.pth')\n",
    "        torch.save(agent.critic_local.state_dict(), 'checkpoint_critic.pth')\n",
    "        break\n",
    "    if i_episode % print_every == 0:\n",
    "        print('\\rEpisode {}\\tAverage Score: {:.2f}'.format(i_episode, np.mean(scores_deque)))\n",
    "\n",
    "fig = plt.figure()\n",
    "ax = fig.add_subplot(111)\n",
    "plt.plot(np.arange(1, len(scores)+1), scores)\n",
    "plt.ylabel('Score')\n",
    "plt.xlabel('Episode #')\n",
    "plt.show()"
   ]
  },
  {
   "cell_type": "markdown",
   "metadata": {},
   "source": [
    "When finished, you can close the environment."
   ]
  },
  {
   "cell_type": "code",
   "execution_count": null,
   "metadata": {},
   "outputs": [],
   "source": [
    "env.close()"
   ]
  },
  {
   "cell_type": "markdown",
   "metadata": {},
   "source": [
    "### 4. It's Your Turn!\n",
    "\n",
    "Now it's your turn to train your own agent to solve the environment!  A few **important notes**:\n",
    "- When training the environment, set `train_mode=True`, so that the line for resetting the environment looks like the following:\n",
    "```python\n",
    "env_info = env.reset(train_mode=True)[brain_name]\n",
    "```\n",
    "- To structure your work, you're welcome to work directly in this Jupyter notebook, or you might like to start over with a new file!  You can see the list of files in the workspace by clicking on **_Jupyter_** in the top left corner of the notebook.\n",
    "- In this coding environment, you will not be able to watch the agents while they are training.  However, **_after training the agents_**, you can download the saved model weights to watch the agents on your own machine! "
   ]
  }
 ],
 "metadata": {
  "kernelspec": {
   "display_name": "Python 3",
   "language": "python",
   "name": "python3"
  },
  "language_info": {
   "codemirror_mode": {
    "name": "ipython",
    "version": 3
   },
   "file_extension": ".py",
   "mimetype": "text/x-python",
   "name": "python",
   "nbconvert_exporter": "python",
   "pygments_lexer": "ipython3",
   "version": "3.6.7"
  }
 },
 "nbformat": 4,
 "nbformat_minor": 2
}
